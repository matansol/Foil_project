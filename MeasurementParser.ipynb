{
 "cells": [
  {
   "cell_type": "code",
   "execution_count": 1,
   "metadata": {},
   "outputs": [],
   "source": [
    "import numpy as np\n",
    "import pandas as pd\n",
    "from datetime import datetime"
   ]
  },
  {
   "cell_type": "code",
   "execution_count": 2,
   "metadata": {
    "collapsed": false,
    "jupyter": {
     "outputs_hidden": false
    }
   },
   "outputs": [],
   "source": [
    "# Disabling this warning as we only need part of the data\n",
    "# So we copy 'measurements_df' -> 'measurements_subset'\n",
    "pd.options.mode.chained_assignment = None"
   ]
  },
  {
   "cell_type": "code",
   "execution_count": 3,
   "metadata": {
    "collapsed": false,
    "jupyter": {
     "outputs_hidden": false
    }
   },
   "outputs": [],
   "source": [
    "measurements_df = pd.read_excel('Data/Elastic Measurements Jul22/Press Machine Sinking Measurements Jul22/Foils experiments 2022_07_18-21.xlsx',sheet_name='Data')"
   ]
  },
  {
   "cell_type": "code",
   "execution_count": 4,
   "metadata": {
    "collapsed": false,
    "jupyter": {
     "outputs_hidden": false
    }
   },
   "outputs": [
    {
     "name": "stdout",
     "output_type": "stream",
     "text": [
      "                    item        parts  frame  position (mm) force (N)  \\\n",
      "0    2022-07-18 00:00:00          NaN    NaN            NaN       NaN   \n",
      "1                      1     Mast TR5    NaN            NaN       NaN   \n",
      "2                    NaN         bend    1.0          74.34     -0.89   \n",
      "3                    NaN          NaN    2.0          36.60    -100.1   \n",
      "4                    NaN          NaN    3.0          -0.10    -199.6   \n",
      "..                   ...          ...    ...            ...       ...   \n",
      "476                  NaN          NaN    4.0          67.20    -153.8   \n",
      "477                  NaN          NaN    NaN            NaN       NaN   \n",
      "478                  NaN  twist front    1.0          66.52      -0.9   \n",
      "479                  NaN          NaN    2.0          66.10     -49.8   \n",
      "480                  NaN          NaN    3.0          65.86    -100.3   \n",
      "\n",
      "     d_position(mm)  delta y  delta x         M  \n",
      "0               NaN      NaN      NaN       NaN  \n",
      "1               NaN      NaN      NaN       NaN  \n",
      "2              0.00      NaN      NaN       NaN  \n",
      "3             37.74      NaN      NaN       NaN  \n",
      "4             74.44    19.79     54.0  0.366481  \n",
      "..              ...      ...      ...       ...  \n",
      "476            1.79      NaN      NaN       NaN  \n",
      "477             NaN      NaN      NaN       NaN  \n",
      "478            0.00      NaN      NaN       NaN  \n",
      "479            0.42     0.24     50.5  0.004752  \n",
      "480            0.66      NaN      NaN       NaN  \n",
      "\n",
      "[481 rows x 9 columns]\n"
     ]
    }
   ],
   "source": [
    "measurements_df.rename(columns={'Unnamed: 1':'parts'},inplace=True)\n",
    "measurements_df.rename(columns={'item #':'item'},inplace=True)\n",
    "measurements_df.rename(columns={'forcs (N)':'force (N)'},inplace=True)\n",
    "\n",
    "measurements_df = measurements_df.drop(measurements_df[measurements_df['item']=='calib1'].index).reset_index(drop=True)\n",
    "measurements_df.drop(columns=['image','Unnamed: 7'], inplace=True, errors='ignore')\n",
    "\n",
    "#location_dataset['parts'] = location_dataset['parts'].to_string()\n",
    "print(measurements_df)"
   ]
  },
  {
   "cell_type": "code",
   "execution_count": 5,
   "metadata": {
    "collapsed": false,
    "jupyter": {
     "outputs_hidden": false
    }
   },
   "outputs": [],
   "source": [
    "part_name = None\n",
    "part_names = []\n",
    "dates = []\n",
    "curr_date = curr_part = ''\n",
    "\n",
    "def not_mast_or_wing(str):\n",
    "    if str is np.nan:\n",
    "        return True\n",
    "    for word in [\"Mast\",\"mast\",\"Wing\",\"wing\"]:\n",
    "        if word in str:\n",
    "            return False\n",
    "    return True\n",
    "\n",
    "def is_date(str):\n",
    "    if type(str) is datetime:\n",
    "        return True\n",
    "    return False"
   ]
  },
  {
   "cell_type": "code",
   "execution_count": 6,
   "metadata": {
    "collapsed": false,
    "jupyter": {
     "outputs_hidden": false
    }
   },
   "outputs": [],
   "source": [
    "for i in range(len(measurements_df)):\n",
    "    #  Date of measurement\n",
    "    if(is_date(measurements_df['item'][i])):\n",
    "        curr_date = measurements_df['item'][i]\n",
    "    dates.append(curr_date)\n",
    "\n",
    "    #  Empty 'parts'\n",
    "    if(measurements_df['parts'][i] is np.nan):\n",
    "        measurements_df['parts'][i] = curr_part\n",
    "    else:\n",
    "        curr_part = measurements_df['parts'][i]\n",
    "\n",
    "    #  Part names\n",
    "    if (part_name is None) and (not_mast_or_wing(measurements_df['parts'][i])):\n",
    "        part_names.append('')\n",
    "        continue\n",
    "    if not (not_mast_or_wing(measurements_df['parts'][i])):\n",
    "        part_name = measurements_df['parts'][i]\n",
    "        if 'Mast' in part_name:\n",
    "            part_name = 'm' +part_name[1:]\n",
    "        if 'Wing' in part_name:\n",
    "            part_name = 'w' +part_name[1:]\n",
    "    part_names.append(part_name)\n",
    "\n",
    "measurements_df['part_name'] = part_names"
   ]
  },
  {
   "cell_type": "code",
   "execution_count": 7,
   "metadata": {
    "collapsed": false,
    "jupyter": {
     "outputs_hidden": false
    }
   },
   "outputs": [],
   "source": [
    "# We can see in the original table that all slopes are 1 line before the final measurement\n",
    "# So we'll shift the slope data 1 row beneath\n",
    "measurements_df['delta y'] = measurements_df['delta y'].shift(periods=1)\n",
    "measurements_df['delta x'] = measurements_df['delta x'].shift(periods=1)\n",
    "measurements_df['M'] = measurements_df['M'].shift(periods=1)"
   ]
  },
  {
   "cell_type": "code",
   "execution_count": 8,
   "metadata": {
    "collapsed": false,
    "jupyter": {
     "outputs_hidden": false
    }
   },
   "outputs": [],
   "source": [
    "measurements_df.drop(columns=['item'], inplace=True, errors='ignore')\n",
    "measurements_df = measurements_df.dropna(subset=['force (N)']).reset_index(drop=True)\n",
    "\n",
    "# RECHOOSE FEATURES\n",
    "# The next subset saves only rows with data at M field (1 row per part-windboard)\n",
    "measurements_subset = measurements_df.dropna(subset=['M']).reset_index(drop=True)\n",
    "measurements_subset['item_name'] = measurements_subset['part_name'].str.replace('mast ', '').str.replace('wing ', '')\n",
    "measurements_subset['item'] = measurements_subset['part_name'].str.slice(0,4)"
   ]
  },
  {
   "cell_type": "code",
   "execution_count": 9,
   "metadata": {
    "collapsed": false,
    "jupyter": {
     "outputs_hidden": false
    }
   },
   "outputs": [],
   "source": [
    "def calc_scores_factors(forces_df, score_column):\n",
    "    for index, row in forces_df.iterrows():\n",
    "        scores = []\n",
    "        max_score = 4\n",
    "        curr_df = measurements_subset[(measurements_subset['item'] == row['item']) &\n",
    "                                      (measurements_subset['parts'] == row['part'])]\n",
    "        curr_df = curr_df[score_column]\n",
    "        curr_df = ((curr_df - curr_df.min()) / (curr_df.max() - curr_df.min())) * max_score\n",
    "        measurements_subset[score_column].iloc[curr_df.index] = curr_df"
   ]
  },
  {
   "cell_type": "code",
   "execution_count": 10,
   "metadata": {
    "collapsed": false,
    "jupyter": {
     "outputs_hidden": false
    }
   },
   "outputs": [],
   "source": [
    "def calc_score():\n",
    "    pos_scores = []\n",
    "    m_scores = []\n",
    "    forces_df = pd.DataFrame(columns=['item','part','value'])\n",
    "    forces_df['item'] = ['wing','wing','wing','mast','mast','mast']\n",
    "    forces_df['part'] = ['bend','twist back', 'twist front','bend','twist back', 'twist front']\n",
    "    forces_df['value'] = [-300, -100, -100, -250, -150, -100]\n",
    "\n",
    "    # Normalizing:\n",
    "    # The reason I haven't chosen a normalization function is because each value\n",
    "    # Should be multiplied by a different factor\n",
    "    for index, row in measurements_subset.iterrows():\n",
    "        #goal_force = forces_df[(forces_df['item'].str.contains(row[\"part_name\"]))]\n",
    "        goal_force = forces_df[forces_df[\"item\"]==row['item']]\n",
    "        goal_force = goal_force[goal_force['part']==row['parts']]\n",
    "        norm_factor = row['force (N)'] / goal_force['value']\n",
    "        pos_score = row['d_position(mm)'] * norm_factor\n",
    "        pos_scores.append(pos_score.values[0])\n",
    "        m_score = row['M'] * norm_factor\n",
    "        m_scores.append(m_score.values[0])\n",
    "\n",
    "    measurements_subset['pos_score'] = pos_scores\n",
    "    measurements_subset['m_score'] = m_scores\n",
    "    calc_scores_factors(forces_df, 'pos_score')\n",
    "    calc_scores_factors(forces_df, 'm_score')\n",
    "    measurements_subset['pos_score'] = measurements_subset['pos_score'] + 1\n",
    "    measurements_subset['m_score'] = measurements_subset['m_score'] + 1\n",
    "\n",
    "calc_score()"
   ]
  },
  {
   "cell_type": "code",
   "execution_count": 11,
   "metadata": {
    "collapsed": false,
    "jupyter": {
     "outputs_hidden": false
    }
   },
   "outputs": [
    {
     "name": "stdout",
     "output_type": "stream",
     "text": [
      "          parts  frame  position (mm) force (N)  d_position(mm)  delta y  \\\n",
      "0          bend    4.0         -19.89    -253.6           94.23    19.79   \n",
      "1    twist back    4.0          74.51    -149.9            3.00     0.91   \n",
      "2   twist front    3.0          74.34     -96.4            1.82     0.66   \n",
      "3          bend    4.0         -38.63    -251.5           86.63    17.81   \n",
      "4    twist back    4.0          43.87    -151.3            2.94     0.91   \n",
      "..          ...    ...            ...       ...             ...      ...   \n",
      "94   twist back    4.0          57.99    -150.8            3.78     1.05   \n",
      "95  twist front    3.0          60.98    -100.6            2.39     1.11   \n",
      "96         bend    4.0         -14.79    -250.4           85.46    14.64   \n",
      "97   twist back    4.0          67.20    -153.8            1.79     0.13   \n",
      "98  twist front    3.0          65.86    -100.3            0.66     0.24   \n",
      "\n",
      "    delta x         M part_name item_name  item  pos_score   m_score  \n",
      "0      54.0  0.366481  mast TR5       TR5  mast   5.000000  5.000000  \n",
      "1      47.4  0.019198  mast TR5       TR5  mast   3.366949  4.428165  \n",
      "2      44.7  0.014765  mast TR5       TR5  mast   3.324011  3.272090  \n",
      "3      51.2  0.347852  mast TR3       TR3  mast   3.383487  4.137170  \n",
      "4      50.0  0.018200  mast TR3       TR3  mast   3.300744  4.259260  \n",
      "..      ...       ...       ...       ...   ...        ...       ...  \n",
      "94     50.9  0.020629  mast ST3       ST3  mast   5.000000  4.745086  \n",
      "95     52.1  0.021305  mast ST3       ST3  mast   4.706419  5.000000  \n",
      "96     50.0  0.292800  mast TR6       TR6  mast   3.085932  1.896271  \n",
      "97     55.9  0.002326  mast TR6       TR6  mast   1.000000  1.000000  \n",
      "98     50.5  0.004752  mast TR6       TR6  mast   1.000000  1.000000  \n",
      "\n",
      "[99 rows x 13 columns]\n",
      "Stored 'measurements_subset' (DataFrame)\n"
     ]
    }
   ],
   "source": [
    "print(measurements_subset)\n",
    "%store measurements_subset"
   ]
  },
  {
   "cell_type": "code",
   "execution_count": null,
   "metadata": {
    "collapsed": false,
    "jupyter": {
     "outputs_hidden": false
    }
   },
   "outputs": [],
   "source": []
  }
 ],
 "metadata": {
  "kernelspec": {
   "display_name": "Python 3 (ipykernel)",
   "language": "python",
   "name": "python3"
  },
  "language_info": {
   "codemirror_mode": {
    "name": "ipython",
    "version": 3
   },
   "file_extension": ".py",
   "mimetype": "text/x-python",
   "name": "python",
   "nbconvert_exporter": "python",
   "pygments_lexer": "ipython3",
   "version": "3.8.16"
  }
 },
 "nbformat": 4,
 "nbformat_minor": 4
}
